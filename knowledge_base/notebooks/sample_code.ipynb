{
 "cells": [
  {
   "cell_type": "markdown",
   "metadata": {},
   "source": [
    "# Context Manager example"
   ]
  },
  {
   "cell_type": "code",
   "execution_count": 1,
   "metadata": {},
   "outputs": [
    {
     "name": "stdout",
     "output_type": "stream",
     "text": [
      "hello from func\n",
      "bye from conman\n"
     ]
    }
   ],
   "source": [
    "from contextlib import contextmanager\n",
    "\n",
    "@contextmanager\n",
    "def myconman():\n",
    "    a = \"hello\" \n",
    "    yield a\n",
    "    a = \"bye\"\n",
    "    print(f\"{a} from conman\")\n",
    "\n",
    "\n",
    "with myconman() as cm:\n",
    "    print(f\"{cm} from func\")\n",
    "\n"
   ]
  }
 ],
 "metadata": {
  "kernelspec": {
   "display_name": "sdet_prep",
   "language": "python",
   "name": "sdet_prep"
  },
  "language_info": {
   "codemirror_mode": {
    "name": "ipython",
    "version": 3
   },
   "file_extension": ".py",
   "mimetype": "text/x-python",
   "name": "python",
   "nbconvert_exporter": "python",
   "pygments_lexer": "ipython3",
   "version": "3.9.5"
  },
  "orig_nbformat": 4,
  "vscode": {
   "interpreter": {
    "hash": "9af9cb3008f9a40511b45124278448ae982f77ae1af752291838f12d8d8dfe22"
   }
  }
 },
 "nbformat": 4,
 "nbformat_minor": 2
}
