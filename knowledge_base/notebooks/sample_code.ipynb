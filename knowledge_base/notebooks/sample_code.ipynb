{
 "cells": [
  {
   "cell_type": "markdown",
   "metadata": {},
   "source": [
    "# Context Manager example"
   ]
  },
  {
   "cell_type": "code",
   "execution_count": 1,
   "metadata": {},
   "outputs": [
    {
     "name": "stdout",
     "output_type": "stream",
     "text": [
      "hello from func\n",
      "bye from conman\n"
     ]
    }
   ],
   "source": [
    "from contextlib import contextmanager\n",
    "\n",
    "@contextmanager\n",
    "def myconman():\n",
    "    a = \"hello\" \n",
    "    yield a\n",
    "    a = \"bye\"\n",
    "    print(f\"{a} from conman\")\n",
    "\n",
    "\n",
    "with myconman() as cm:\n",
    "    print(f\"{cm} from func\")\n",
    "\n"
   ]
  },
  {
   "cell_type": "markdown",
   "metadata": {},
   "source": [
    "# Binary Data"
   ]
  },
  {
   "cell_type": "code",
   "execution_count": 2,
   "metadata": {},
   "outputs": [
    {
     "name": "stdout",
     "output_type": "stream",
     "text": [
      " 0 in binary is        0 and in hex is                0\n",
      " 1 in binary is        1 and in hex is                1\n",
      " 2 in binary is       10 and in hex is                2\n",
      " 3 in binary is       11 and in hex is                3\n",
      " 4 in binary is      100 and in hex is                4\n",
      " 5 in binary is      101 and in hex is                5\n",
      " 6 in binary is      110 and in hex is                6\n",
      " 7 in binary is      111 and in hex is                7\n",
      " 8 in binary is     1000 and in hex is                8\n",
      " 9 in binary is     1001 and in hex is                9\n",
      "10 in binary is     1010 and in hex is                a\n",
      "11 in binary is     1011 and in hex is                b\n",
      "12 in binary is     1100 and in hex is                c\n",
      "13 in binary is     1101 and in hex is                d\n",
      "14 in binary is     1110 and in hex is                e\n",
      "15 in binary is     1111 and in hex is                f\n",
      "16 in binary is    10000 and in hex is               10\n"
     ]
    }
   ],
   "source": [
    "for i in range(17):\n",
    "    print(\"{0:>2} in binary is {0:>8b} and in hex is {0:>16x}\".format(i))\n"
   ]
  },
  {
   "cell_type": "markdown",
   "metadata": {},
   "source": [
    "dict"
   ]
  },
  {
   "cell_type": "code",
   "execution_count": 3,
   "metadata": {},
   "outputs": [
    {
     "name": "stdout",
     "output_type": "stream",
     "text": [
      "{1: 'asd', 2: 'ws', 3: 'qa'}\n",
      "{1: 'asd', 2: 'ws', 3: 'qa', 4: 'wer'}\n",
      "{1: 'asd', 2: 'ws', 4: 'wer'}\n",
      "ws\n",
      "None\n"
     ]
    }
   ],
   "source": [
    "a = {1: 'asd', 2: 'ws', 3: 'qa'}\n",
    "print(a)\n",
    "a[4] = 'wer'\n",
    "print(a)\n",
    "del a[3]\n",
    "print(a)\n",
    "print(a.get(2))\n",
    "print(a.get(8))\n"
   ]
  },
  {
   "cell_type": "markdown",
   "metadata": {},
   "source": [
    "## Regex samples\n",
    "\n",
    "Some generic patterns\n",
    "[] ==> set of chars to be included\n",
    "{} ==> range of characters i.e number of character in a group to satify the pattern \n",
    "^ ~ to exclude the specific pattern\n",
    "\\w ~ [A-Za-z0-9_]\n",
    "\\W ~ ^\\w\n",
    "\\d ~ all digit i.e [0-9]\n",
    "\\s ~ [\\f\\n\\r\\t\\v]\n",
    "\\S ~ ^\\s\n",
    "\\f ~ formfeed\n",
    "\\n ~ new line\n",
    "\\r ~ carriage return\n",
    "\\t ~ tab\n",
    "\\v ~ vertical tab\n"
   ]
  },
  {
   "cell_type": "code",
   "execution_count": 4,
   "metadata": {},
   "outputs": [
    {
     "name": "stdout",
     "output_type": "stream",
     "text": [
      "5\n"
     ]
    }
   ],
   "source": [
    "# sample#1\n",
    "import re\n",
    "\n",
    "a = 'qwe'\n",
    "b = 'qwe thjvs;b lkjffbq; qwe;sdjfqwevsdhbllgbqwekdfj;gqenrfqwee'\n",
    "\n",
    "a = len(re.findall(a,b))\n",
    "\n",
    "print(a)"
   ]
  },
  {
   "cell_type": "code",
   "execution_count": null,
   "metadata": {},
   "outputs": [],
   "source": [
    "# sample#2\n",
    "import re\n",
    "\n",
    "randstr = '''\n",
    "This is a random str. It has some random values. what is mentioned over here is not a matter of concern.\n",
    "what matters is that the required regex is able to work correctly, just as intended\n",
    "set it to otter\n",
    "'''\n",
    "\n",
    "print(re.findall('is', randstr))\n",
    "print(len(re.findall('is',randstr)))\n",
    "\n",
    "print(re.findall('[i,s][i,s]', randstr))\n",
    "print(re.findall('[i,t][i,t]',randstr))"
   ]
  },
  {
   "cell_type": "code",
   "execution_count": 6,
   "metadata": {},
   "outputs": [],
   "source": [
    "# Sample set#3\n",
    "import re\n",
    "\n",
    "def find_chars_including_pattern():\n",
    "    a = \"this is a randon string this is not per\"\n",
    "    b = \"[his]{2,3}\"\n",
    "\n",
    "    print(re.findall(b,a))\n",
    "\n",
    "def find_chars_excluding_pattern():\n",
    "    a = \"this is a randon string this is not per\"\n",
    "    b = \"[^his]{2,3}\"\n",
    "\n",
    "    print(re.findall(b,a))\n",
    "\n",
    "def replace_string():\n",
    "    a = \"This is a string\"\n",
    "\n",
    "    # by default atleast one occurance of pattern in [] must exist \n",
    "    regex = re.compile(\"[a-z]is\")\n",
    "    b = regex.sub('are', a)\n",
    "    print(b)\n",
    "    \n",
    "    # In regex2 the pattern * indicates the 0 or more occurances of the pattern should exist.\n",
    "    regex2 = re.compile(\"[a-z]*is\")\n",
    "    a = regex2.sub('are', a)\n",
    "    print(a)\n",
    "\n",
    "def random_string():\n",
    "    randstr = \"123 12323 12345 123234 11111\"\n",
    "    print(re.findall(\"\\d{5}\", randstr))"
   ]
  },
  {
   "cell_type": "code",
   "execution_count": null,
   "metadata": {},
   "outputs": [],
   "source": [
    "# regex for webscrapping\n",
    "\n",
    "import re\n",
    "import requests\n",
    "\n",
    "def find_pattern_in_text(text, pattern):\n",
    "    all_matches = re.findall(pattern, text)\n",
    "    esc_char = re.compile(\"([\\r\\t]|<body>|</body>|<script>[/s/S]*?</script>)*\")\n",
    "    \n",
    "    text = esc_char.sub(\"\", all_matches[0])\n",
    "    return text\n",
    "    #all_matches_set = set(all_matches)\n",
    "    print(all_matches)\n",
    "    #print(len(all_matches))\n",
    "    #print(all_matches_set)\n",
    "    #print(len(all_matches_set))\n",
    "\n",
    "url = \"http://localhost:8000/\" # this must be a working link\n",
    "a = requests.get(url)\n",
    "pattern = \"<body>[\\s\\S]*?</body>\"\n",
    "#print(a.text)\n",
    "text = find_pattern_in_text(a.text, pattern)\n",
    "print(text)\n"
   ]
  },
  {
   "cell_type": "code",
   "execution_count": 7,
   "metadata": {},
   "outputs": [
    {
     "name": "stdout",
     "output_type": "stream",
     "text": [
      "{'Ram': '22', 'Sita': '20', 'Ajay': '38', 'Jay': '19'}\n"
     ]
    }
   ],
   "source": [
    "# Regex string parsing example\n",
    "\n",
    "import re\n",
    "\n",
    "nameAge = '''\n",
    "Ram is 22 and Sita is 20\n",
    "Ajay is 38 and Jay is 19\n",
    "'''\n",
    "\n",
    "names = re.findall(r'[A-Z][a-z]*', nameAge)\n",
    "ages = re.findall(r'\\d{1,3}', nameAge)\n",
    "\n",
    "ageDict = {}\n",
    "\n",
    "for x,y in zip(names,ages):\n",
    "    ageDict[x] = y\n",
    "\n",
    "print(ageDict)"
   ]
  },
  {
   "cell_type": "markdown",
   "metadata": {},
   "source": [
    "# Taking Input\n",
    "Note: In the VS code, when asking for input, the prompt appers at the top of the screen, so it may not be visible at first and the system may seem hung. Just take a cleaner look at it."
   ]
  },
  {
   "cell_type": "code",
   "execution_count": 5,
   "metadata": {},
   "outputs": [
    {
     "name": "stdout",
     "output_type": "stream",
     "text": [
      "<class 'str'>\n",
      "hello\n"
     ]
    }
   ],
   "source": [
    "a = input(\"enter value 1: \")\n",
    "print(type(a))\n",
    "print(a)"
   ]
  }
 ],
 "metadata": {
  "kernelspec": {
   "display_name": "sdet_prep",
   "language": "python",
   "name": "sdet_prep"
  },
  "language_info": {
   "codemirror_mode": {
    "name": "ipython",
    "version": 3
   },
   "file_extension": ".py",
   "mimetype": "text/x-python",
   "name": "python",
   "nbconvert_exporter": "python",
   "pygments_lexer": "ipython3",
   "version": "3.9.5"
  },
  "orig_nbformat": 4,
  "vscode": {
   "interpreter": {
    "hash": "9af9cb3008f9a40511b45124278448ae982f77ae1af752291838f12d8d8dfe22"
   }
  }
 },
 "nbformat": 4,
 "nbformat_minor": 2
}
